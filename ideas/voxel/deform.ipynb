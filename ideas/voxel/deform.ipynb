{
 "cells": [
  {
   "cell_type": "code",
   "execution_count": null,
   "metadata": {},
   "outputs": [],
   "source": []
  },
  {
   "cell_type": "code",
   "execution_count": 2,
   "metadata": {},
   "outputs": [],
   "source": [
    "import torch\n",
    "import torch.nn as nn\n",
    "import torch.nn.functional as F\n",
    "from tava.models.basic.mlp import StraightMLP\n",
    "from tava.models.basic.posi_enc import PositionalEncoder, TCNNHashPositionalEncoder\n",
    "\n",
    "\n",
    "class SkinWeightsNetMLP(nn.Module):\n",
    "    def __init__(self, n_transforms: int):\n",
    "        super().__init__()\n",
    "        self.posi_enc = PositionalEncoder(\n",
    "            in_dim=3, min_deg=0, max_deg=4, append_identity=True\n",
    "        )\n",
    "        self.net = StraightMLP(\n",
    "            net_depth=4,\n",
    "            net_width=128,\n",
    "            input_dim=self.posi_enc.out_dim,\n",
    "            output_dim=n_transforms,\n",
    "        )\n",
    "\n",
    "\n",
    "class SkinWeightsNetNGP(nn.Module):\n",
    "    def __init__(self, n_transforms: int):\n",
    "        super().__init__()\n",
    "        bounding_box = [-0.07, -0.25, -0.05, 0.07, 0.25, 0.40]\n",
    "        self.posi_enc = TCNNHashPositionalEncoder(\n",
    "            bounding_box=bounding_box,\n",
    "            in_dim=3, n_levels=4, per_level_scale=1.5\n",
    "        )\n",
    "        self.net = StraightMLP(\n",
    "            net_depth=1,\n",
    "            net_width=64,\n",
    "            input_dim=self.posi_enc.out_dim,\n",
    "            output_dim=n_transforms,\n",
    "        )"
   ]
  },
  {
   "cell_type": "code",
   "execution_count": null,
   "metadata": {},
   "outputs": [],
   "source": [
    "from tava.datasets.animal_parser import SubjectParser\n",
    "\n",
    "parser = SubjectParser(\"Hare_male_full_RM\", \"./data/animal\")\n"
   ]
  }
 ],
 "metadata": {
  "interpreter": {
   "hash": "6184d9b99cb74e2209cd7e160e4da5ae7659535ee54e7ae300c9d3f329090ca1"
  },
  "kernelspec": {
   "display_name": "Python 3.9.12 ('tava2')",
   "language": "python",
   "name": "python3"
  },
  "language_info": {
   "codemirror_mode": {
    "name": "ipython",
    "version": 3
   },
   "file_extension": ".py",
   "mimetype": "text/x-python",
   "name": "python",
   "nbconvert_exporter": "python",
   "pygments_lexer": "ipython3",
   "version": "3.9.12"
  },
  "orig_nbformat": 4
 },
 "nbformat": 4,
 "nbformat_minor": 2
}
