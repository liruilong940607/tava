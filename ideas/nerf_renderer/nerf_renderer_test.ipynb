{
 "cells": [
  {
   "cell_type": "code",
   "execution_count": 1,
   "metadata": {},
   "outputs": [],
   "source": [
    "%load_ext autoreload\n",
    "%autoreload 2"
   ]
  },
  {
   "cell_type": "code",
   "execution_count": 2,
   "metadata": {},
   "outputs": [
    {
     "name": "stderr",
     "output_type": "stream",
     "text": [
      "/home/ruilongli/anaconda3/envs/tava2/lib/python3.9/site-packages/tqdm-4.64.0-py3.9.egg/tqdm/auto.py:22: TqdmWarning: IProgress not found. Please update jupyter and ipywidgets. See https://ipywidgets.readthedocs.io/en/stable/user_install.html\n",
      "  from .autonotebook import tqdm as notebook_tqdm\n"
     ]
    }
   ],
   "source": [
    "import torch\n",
    "import torch.nn.functional as F\n",
    "import tqdm\n",
    "\n",
    "import raymarching2\n",
    "\n",
    "rays_o = (torch.zeros((2000, 3)) + 0.1).to(\"cuda\")\n",
    "rays_d = torch.randn((2000, 3)).to(\"cuda\")\n",
    "rays_d = F.normalize(rays_d, dim=-1)\n",
    "\n",
    "density_bitfield = (torch.ones(\n",
    "    (5, 128 ** 3 // 8), dtype=torch.uint8\n",
    ") * 255).to(\"cuda\")\n",
    "\n",
    "aabb = torch.tensor([0., 0., 0., 1., 1., 1.]).to(\"cuda\")\n",
    "torch.cuda.synchronize()\n",
    "\n",
    "sigmas = torch.rand((2000, 1024), device=rays_o.device, requires_grad=True)\n",
    "rgbs = torch.rand((2000, 1024, 3), device=rays_o.device, requires_grad=True)\n",
    "bkgd_rgb = torch.rand(3).to(\"cuda\")\n"
   ]
  },
  {
   "cell_type": "code",
   "execution_count": 3,
   "metadata": {},
   "outputs": [],
   "source": [
    "from torch.profiler import profile, record_function, ProfilerActivity"
   ]
  },
  {
   "cell_type": "code",
   "execution_count": 10,
   "metadata": {},
   "outputs": [
    {
     "name": "stderr",
     "output_type": "stream",
     "text": [
      "100%|██████████| 1000/1000 [00:08<00:00, 122.06it/s]"
     ]
    },
    {
     "name": "stdout",
     "output_type": "stream",
     "text": [
      "-------------------------------------------------------  ------------  ------------  ------------  ------------  ------------  ------------  ------------  ------------  ------------  ------------  \n",
      "                                                   Name    Self CPU %      Self CPU   CPU total %     CPU total  CPU time avg     Self CUDA   Self CUDA %    CUDA total  CUDA time avg    # of Calls  \n",
      "-------------------------------------------------------  ------------  ------------  ------------  ------------  ------------  ------------  ------------  ------------  ------------  ------------  \n",
      "void volumetric_rendering_kernel<float>(unsigned int...         0.00%       0.000us         0.00%       0.000us       0.000us       2.251ms        35.94%       2.251ms       2.251ms             1  \n",
      "void kernel_generate_training_samples<float>(unsigne...         0.00%       0.000us         0.00%       0.000us       0.000us       2.081ms        33.22%       2.081ms       2.081ms             1  \n",
      "void volumetric_rendering_backward_kernel<float>(uns...         0.00%       0.000us         0.00%       0.000us       0.000us       1.863ms        29.74%       1.863ms       1.863ms             1  \n",
      "void at::native::vectorized_elementwise_kernel<4, at...         0.00%       0.000us         0.00%       0.000us       0.000us      36.000us         0.57%      36.000us      18.000us             2  \n",
      "void at::native::vectorized_elementwise_kernel<4, at...         0.00%       0.000us         0.00%       0.000us       0.000us      21.000us         0.34%      21.000us       2.100us            10  \n",
      "void at::native::vectorized_elementwise_kernel<4, at...         0.00%       0.000us         0.00%       0.000us       0.000us       5.000us         0.08%       5.000us       1.667us             3  \n",
      "void at::native::reduce_kernel<512, 1, at::native::R...         0.00%       0.000us         0.00%       0.000us       0.000us       5.000us         0.08%       5.000us       5.000us             1  \n",
      "void at::native::elementwise_kernel<128, 2, at::nati...         0.00%       0.000us         0.00%       0.000us       0.000us       2.000us         0.03%       2.000us       2.000us             1  \n",
      "                                       cudaLaunchKernel         7.84%     460.000us         7.84%     460.000us      23.000us       0.000us         0.00%       0.000us       0.000us            20  \n",
      "                                  cudaDeviceSynchronize        92.16%       5.407ms        92.16%       5.407ms       5.407ms       0.000us         0.00%       0.000us       0.000us             1  \n",
      "-------------------------------------------------------  ------------  ------------  ------------  ------------  ------------  ------------  ------------  ------------  ------------  ------------  \n",
      "Self CPU time total: 5.867ms\n",
      "Self CUDA time total: 6.264ms\n",
      "\n",
      "accumulated_color tensor(3262.9824, device='cuda:0', grad_fn=<SumBackward0>)\n",
      "grad sigmas tensor(-76255.7500, device='cuda:0')\n",
      "grad rgbs tensor(882230.8750, device='cuda:0')\n"
     ]
    },
    {
     "name": "stderr",
     "output_type": "stream",
     "text": [
      "\n"
     ]
    }
   ],
   "source": [
    "indices, positions, dirs, deltas, ts = raymarching2.generate_training_samples(\n",
    "    rays_o, rays_d, aabb, density_bitfield, 1024 * rays_o.shape[0]\n",
    ")\n",
    "\n",
    "sigmas_collector = []\n",
    "rgbs_collector = []\n",
    "for ray_id, sample_id, sample_cnt in indices:\n",
    "    sigmas_collector.append(\n",
    "        sigmas[ray_id, 0: sample_cnt]\n",
    "    )\n",
    "    rgbs_collector.append(\n",
    "        rgbs[ray_id, 0: sample_cnt]\n",
    "    )\n",
    "sigmas_collector = torch.cat(sigmas_collector)\n",
    "rgbs_collector = torch.cat(rgbs_collector)\n",
    "\n",
    "sigmas_collector = sigmas_collector.detach().clone().requires_grad_(True)\n",
    "rgbs_collector = rgbs_collector.detach().clone().requires_grad_(True)\n",
    "\n",
    "for _ in tqdm.tqdm(range(1000)):\n",
    "    with profile(activities=[ProfilerActivity.CUDA], record_shapes=True) as prof:\n",
    "        with record_function(\"volumetric_rendering\"):\n",
    "            indices, positions, dirs, deltas, ts = raymarching2.generate_training_samples(\n",
    "                rays_o, rays_d, aabb, density_bitfield, 1024 * rays_o.shape[0]\n",
    "            )\n",
    "            (\n",
    "                accumulated_weight, \n",
    "                accumulated_depth, \n",
    "                accumulated_color, \n",
    "                accumulated_position\n",
    "            ) = raymarching2.volumetric_rendering(\n",
    "                indices, positions, deltas, ts,\n",
    "                sigmas_collector, rgbs_collector,\n",
    "                bkgd_rgb\n",
    "            )\n",
    "            accumulated_color.sum().backward()\n",
    "    torch.cuda.synchronize()\n",
    "\n",
    "print (prof.key_averages().table(sort_by=\"cuda_time_total\", row_limit=10))\n",
    "print (\"accumulated_color\", accumulated_color.sum())\n",
    "print (\"grad sigmas\", sigmas_collector.grad.sum())\n",
    "print (\"grad rgbs\", rgbs_collector.grad.sum())\n",
    "\n",
    "_ = sigmas_collector.grad.zero_()\n",
    "_ = rgbs_collector.grad.zero_()\n",
    "\n"
   ]
  },
  {
   "cell_type": "code",
   "execution_count": null,
   "metadata": {},
   "outputs": [],
   "source": []
  },
  {
   "cell_type": "code",
   "execution_count": 11,
   "metadata": {},
   "outputs": [
    {
     "name": "stderr",
     "output_type": "stream",
     "text": [
      "100%|██████████| 1000/1000 [00:08<00:00, 116.70it/s]"
     ]
    },
    {
     "name": "stdout",
     "output_type": "stream",
     "text": [
      "comp_rgb tensor(3263.0479, device='cuda:0', grad_fn=<SumBackward0>)\n",
      "grad sigmas tensor(-75984.8594, device='cuda:0')\n",
      "grad rgbs tensor(882290.8750, device='cuda:0')\n",
      "-------------------------------------------------------  ------------  ------------  ------------  ------------  ------------  ------------  ------------  ------------  ------------  ------------  \n",
      "                                                   Name    Self CPU %      Self CPU   CPU total %     CPU total  CPU time avg     Self CUDA   Self CUDA %    CUDA total  CUDA time avg    # of Calls  \n",
      "-------------------------------------------------------  ------------  ------------  ------------  ------------  ------------  ------------  ------------  ------------  ------------  ------------  \n",
      "void at::native::elementwise_kernel<128, 2, at::nati...         0.00%       0.000us         0.00%       0.000us       0.000us     386.000us        15.16%     386.000us      48.250us             8  \n",
      "void at::native::elementwise_kernel<128, 4, at::nati...         0.00%       0.000us         0.00%       0.000us       0.000us     318.000us        12.49%     318.000us      53.000us             6  \n",
      "void at::native::vectorized_elementwise_kernel<4, at...         0.00%       0.000us         0.00%       0.000us       0.000us     318.000us        12.49%     318.000us      45.429us             7  \n",
      "void at::native::vectorized_elementwise_kernel<4, at...         0.00%       0.000us         0.00%       0.000us       0.000us     222.000us         8.72%     222.000us      55.500us             4  \n",
      "void at::native::reduce_kernel<512, 1, at::native::R...         0.00%       0.000us         0.00%       0.000us       0.000us     214.000us         8.40%     214.000us      35.667us             6  \n",
      "std::enable_if<!c10::is_complex<float>::value, void>...         0.00%       0.000us         0.00%       0.000us       0.000us     158.000us         6.20%     158.000us      79.000us             2  \n",
      "void at::native::vectorized_elementwise_kernel<4, at...         0.00%       0.000us         0.00%       0.000us       0.000us     155.000us         6.09%     155.000us      25.833us             6  \n",
      "void at::native::elementwise_kernel<128, 2, at::nati...         0.00%       0.000us         0.00%       0.000us       0.000us     142.000us         5.58%     142.000us      35.500us             4  \n",
      "void at::native::unrolled_elementwise_kernel<at::nat...         0.00%       0.000us         0.00%       0.000us       0.000us      73.000us         2.87%      73.000us      36.500us             2  \n",
      "void at::native::(anonymous namespace)::CatArrayBatc...         0.00%       0.000us         0.00%       0.000us       0.000us      68.000us         2.67%      68.000us      34.000us             2  \n",
      "-------------------------------------------------------  ------------  ------------  ------------  ------------  ------------  ------------  ------------  ------------  ------------  ------------  \n",
      "Self CPU time total: 1.267ms\n",
      "Self CUDA time total: 2.547ms\n",
      "\n"
     ]
    },
    {
     "name": "stderr",
     "output_type": "stream",
     "text": [
      "\n"
     ]
    }
   ],
   "source": [
    "def generate_training_samples(\n",
    "    rays_o: torch.Tensor, \n",
    "    rays_d: torch.Tensor, \n",
    "    aabb: torch.Tensor, \n",
    "    max_samples: int = 10_000,\n",
    "):\n",
    "    device = rays_o.device\n",
    "    NERF_STEPS = 1024\n",
    "    STEPSIZE = 1.7320508075688772 / NERF_STEPS\n",
    "\n",
    "    rays_o = rays_o.reshape(-1, 3)\n",
    "    rays_d = rays_d.reshape(-1, 3)\n",
    "\n",
    "    t_vals = torch.arange(0.0, NERF_STEPS, device=device) * STEPSIZE\n",
    "    t_vals = t_vals[None, :].expand((rays_o.shape[0], -1))\n",
    "    points = rays_o[:, None, :] + rays_d[:, None, :] * t_vals[:, :, None]\n",
    "\n",
    "    selector = (\n",
    "        (points[..., 0] >= aabb[0]) &\n",
    "        (points[..., 1] >= aabb[1]) &\n",
    "        (points[..., 2] >= aabb[2]) &\n",
    "        (points[..., 0] <= aabb[3]) &\n",
    "        (points[..., 1] <= aabb[4]) &\n",
    "        (points[..., 2] <= aabb[5])\n",
    "    )\n",
    "    points[selector]\n",
    "    return points, selector, t_vals\n",
    "\n",
    "\n",
    "def volumetric_rendering(rgb, density, t_vals, dirs, color_bkgd):\n",
    "    \"\"\"Volumetric Rendering Function.\n",
    "    Args:\n",
    "        rgb: torch.ndarray(float32), color, [batch_size, num_samples, 3]\n",
    "        density: torch.ndarray(float32), density, [batch_size, num_samples, 1].\n",
    "        t_vals: torch.ndarray(float32), [batch_size, num_samples].\n",
    "        dirs: torch.ndarray(float32), [batch_size, 3].\n",
    "        color_bkgd: torch.ndarray(float32), [3].\n",
    "    Returns:\n",
    "        comp_rgb: torch.ndarray(float32), [batch_size, 3].\n",
    "        disp: torch.ndarray(float32), [batch_size].\n",
    "        acc: torch.ndarray(float32), [batch_size].\n",
    "        weights: torch.ndarray(float32), [batch_size, num_samples]\n",
    "    \"\"\"\n",
    "    t_dists = torch.cat(\n",
    "        [\n",
    "            t_vals[Ellipsis, 1:] - t_vals[Ellipsis, :-1],\n",
    "            # torch.tensor(\n",
    "            #     [1e10], dtype=t_vals.dtype, device=t_vals.device\n",
    "            # ).expand(t_vals[Ellipsis, :1].shape),\n",
    "            t_vals[Ellipsis, 1:2] - t_vals[Ellipsis, 0:1]\n",
    "        ],\n",
    "        -1,\n",
    "    )\n",
    "    delta = t_dists * torch.linalg.norm(dirs[Ellipsis, None, :], dim=-1)\n",
    "    \n",
    "    # Note that we're quietly turning density from [..., 0] to [...].\n",
    "    density_delta = density[..., 0] * delta\n",
    "\n",
    "    alpha = 1 - torch.exp(-density_delta)\n",
    "    trans = torch.exp(\n",
    "        -torch.cat(\n",
    "            [\n",
    "                torch.zeros_like(density_delta[..., :1]),\n",
    "                torch.cumsum(density_delta[..., :-1], dim=-1),\n",
    "            ],\n",
    "            dim=-1,\n",
    "        )\n",
    "    )\n",
    "    weights = alpha * trans\n",
    "\n",
    "    comp_rgb = (weights[..., None] * rgb).sum(dim=-2)\n",
    "    # print (\"weights\", weights)\n",
    "    acc = weights.sum(dim=-1)\n",
    "    # distance = (weights * t_mids).sum(dim=-1) / acc\n",
    "    # distance = torch.clip(\n",
    "    #     torch.nan_to_num(distance, torch.finfo().max), t_vals[:, 0], t_vals[:, -1]\n",
    "    # )\n",
    "    depth = (weights * t_vals).sum(dim=-1)\n",
    "    eps = 1e-10\n",
    "    inv_eps = 1 / eps\n",
    "    # torch.where accepts <scaler, double tensor>\n",
    "    disp = (acc / depth).double()\n",
    "    disp = torch.where(\n",
    "        (disp > 0) & (disp < inv_eps) & (acc > eps), disp, inv_eps\n",
    "    )\n",
    "    disp = disp.to(acc.dtype)\n",
    "\n",
    "    comp_rgb = comp_rgb + color_bkgd * (1.0 - acc[..., None])\n",
    "    return comp_rgb, depth, acc, weights\n",
    "\n",
    "torch.cuda.synchronize()\n",
    "for _ in tqdm.tqdm(range(1000)):\n",
    "    with profile(activities=[ProfilerActivity.CUDA], record_shapes=True) as prof:\n",
    "        with record_function(\"volumetric_rendering\"):\n",
    "            points, selector, t_vals = generate_training_samples(rays_o, rays_d, aabb)\n",
    "            comp_rgb, depth, acc, weights = volumetric_rendering(\n",
    "                rgbs, (sigmas * selector).unsqueeze(-1), t_vals, \n",
    "                rays_d, bkgd_rgb\n",
    "            )\n",
    "            comp_rgb.sum().backward()\n",
    "\n",
    "    torch.cuda.synchronize()\n",
    "\n",
    "print (\"comp_rgb\", comp_rgb.sum())\n",
    "print (\"grad sigmas\", sigmas.grad.sum())\n",
    "print (\"grad rgbs\", rgbs.grad.sum())\n",
    "# print (rgbs.grad)\n",
    "print (prof.key_averages().table(sort_by=\"cuda_time_total\", row_limit=10))\n",
    "\n",
    "_ = sigmas.grad.zero_()\n",
    "_ = rgbs.grad.zero_()\n"
   ]
  },
  {
   "cell_type": "code",
   "execution_count": null,
   "metadata": {},
   "outputs": [],
   "source": []
  },
  {
   "cell_type": "code",
   "execution_count": null,
   "metadata": {},
   "outputs": [],
   "source": []
  },
  {
   "cell_type": "code",
   "execution_count": null,
   "metadata": {},
   "outputs": [],
   "source": []
  },
  {
   "cell_type": "code",
   "execution_count": null,
   "metadata": {},
   "outputs": [],
   "source": []
  },
  {
   "cell_type": "code",
   "execution_count": null,
   "metadata": {},
   "outputs": [],
   "source": [
    "import torch\n",
    "import torch.nn.functional as F\n",
    "\n",
    "import raymarching2\n",
    "\n",
    "\n",
    "rays_o = (torch.zeros((10, 100, 3)) + 0.1).to(\"cuda\")\n",
    "rays_d = torch.randn((10, 100, 3)).to(\"cuda\")\n",
    "rays_d = F.normalize(rays_d, dim=-1)\n",
    "\n",
    "density_bitfield = (torch.ones(\n",
    "    (5, 128 ** 3 // 8), dtype=torch.uint8\n",
    ") * 255).to(\"cuda\")\n",
    "\n",
    "aabb = torch.tensor([0., 0., 0., 1., 1., 1.]).to(\"cuda\")\n",
    "\n",
    "positions, dirs, deltas, nears, fars = raymarching2.generate_training_samples(\n",
    "    rays_o, rays_d, aabb, density_bitfield\n",
    ")\n",
    "torch.cuda.synchronize()"
   ]
  },
  {
   "cell_type": "code",
   "execution_count": null,
   "metadata": {},
   "outputs": [],
   "source": [
    "from tava.utils.plotly import Trimesh, plot_scene, PointCloud\n",
    "\n",
    "def aabb_to_mesh(aabb):\n",
    "    vertices = torch.stack([\n",
    "        aabb[[0, 1, 2]], \n",
    "        aabb[[3, 1, 2]], \n",
    "        aabb[[0, 4, 2]], \n",
    "        aabb[[0, 1, 5]], \n",
    "        aabb[[3, 4, 2]],\n",
    "        aabb[[0, 4, 5]],\n",
    "        aabb[[3, 1, 5]],\n",
    "        aabb[[3, 4, 5]],\n",
    "    ])\n",
    "    faces = torch.tensor([\n",
    "        [0, 1, 4], [0, 4, 2],\n",
    "        [0, 3, 6], [0, 6, 1],\n",
    "        [1, 6, 4], [4, 6, 7],\n",
    "        [2, 4, 7], [2, 7, 5],\n",
    "        [2, 5, 0], [0, 5, 3],\n",
    "        [2, 4, 7], [2, 7, 5],\n",
    "    ], dtype=torch.int32, device=aabb.device)\n",
    "    return vertices, faces\n",
    "\n",
    "vertices, faces = aabb_to_mesh(aabb)\n",
    "plot_scene(\n",
    "    {\n",
    "        \"bbox\": {\n",
    "            \"struct\": Trimesh(\n",
    "                vertices.cpu().numpy(),\n",
    "                faces.cpu().numpy(),\n",
    "            ),\n",
    "            \"mesh_opacity\": 0.7\n",
    "        },\n",
    "        \"samples\": {\n",
    "            \"struct\": PointCloud(\n",
    "                positions[positions.sum(dim=-1) > 0].cpu().numpy()\n",
    "            )\n",
    "        }\n",
    "    }\n",
    ")"
   ]
  },
  {
   "cell_type": "code",
   "execution_count": null,
   "metadata": {},
   "outputs": [],
   "source": [
    "(positions.sum(dim=-1) > 0).sum()"
   ]
  },
  {
   "cell_type": "code",
   "execution_count": null,
   "metadata": {},
   "outputs": [],
   "source": []
  }
 ],
 "metadata": {
  "interpreter": {
   "hash": "6184d9b99cb74e2209cd7e160e4da5ae7659535ee54e7ae300c9d3f329090ca1"
  },
  "kernelspec": {
   "display_name": "Python 3.9.12 ('tava2')",
   "language": "python",
   "name": "python3"
  },
  "language_info": {
   "codemirror_mode": {
    "name": "ipython",
    "version": 3
   },
   "file_extension": ".py",
   "mimetype": "text/x-python",
   "name": "python",
   "nbconvert_exporter": "python",
   "pygments_lexer": "ipython3",
   "version": "3.9.12"
  },
  "orig_nbformat": 4
 },
 "nbformat": 4,
 "nbformat_minor": 2
}
