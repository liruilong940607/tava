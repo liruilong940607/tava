{
 "cells": [
  {
   "cell_type": "code",
   "execution_count": null,
   "metadata": {},
   "outputs": [],
   "source": [
    "import torch\n",
    "import torch.nn.functional as F\n",
    "\n",
    "import raymarching2\n",
    "\n",
    "\n",
    "rays_o = (torch.zeros((10, 100, 3)) + 0.1).to(\"cuda\")\n",
    "rays_d = torch.randn((10, 100, 3)).to(\"cuda\")\n",
    "rays_d = F.normalize(rays_d, dim=-1)\n",
    "\n",
    "density_bitfield = (torch.ones(\n",
    "    (5, 128 ** 3 // 8), dtype=torch.uint8\n",
    ") * 255).to(\"cuda\")\n",
    "\n",
    "aabb = torch.tensor([0., 0., 0., 1., 1., 1.]).to(\"cuda\")\n",
    "\n",
    "positions, dirs, deltas, nears, fars = raymarching2.generate_training_samples(\n",
    "    rays_o, rays_d, aabb, density_bitfield\n",
    ")\n",
    "torch.cuda.synchronize()"
   ]
  },
  {
   "cell_type": "code",
   "execution_count": null,
   "metadata": {},
   "outputs": [],
   "source": [
    "from tava.utils.plotly import Trimesh, plot_scene, PointCloud\n",
    "\n",
    "def aabb_to_mesh(aabb):\n",
    "    vertices = torch.stack([\n",
    "        aabb[[0, 1, 2]], \n",
    "        aabb[[3, 1, 2]], \n",
    "        aabb[[0, 4, 2]], \n",
    "        aabb[[0, 1, 5]], \n",
    "        aabb[[3, 4, 2]],\n",
    "        aabb[[0, 4, 5]],\n",
    "        aabb[[3, 1, 5]],\n",
    "        aabb[[3, 4, 5]],\n",
    "    ])\n",
    "    faces = torch.tensor([\n",
    "        [0, 1, 4], [0, 4, 2],\n",
    "        [0, 3, 6], [0, 6, 1],\n",
    "        [1, 6, 4], [4, 6, 7],\n",
    "        [2, 4, 7], [2, 7, 5],\n",
    "        [2, 5, 0], [0, 5, 3],\n",
    "        [2, 4, 7], [2, 7, 5],\n",
    "    ], dtype=torch.int32, device=aabb.device)\n",
    "    return vertices, faces\n",
    "\n",
    "vertices, faces = aabb_to_mesh(aabb)\n",
    "plot_scene(\n",
    "    {\n",
    "        \"bbox\": {\n",
    "            \"struct\": Trimesh(\n",
    "                vertices.cpu().numpy(),\n",
    "                faces.cpu().numpy(),\n",
    "            ),\n",
    "            \"mesh_opacity\": 0.7\n",
    "        },\n",
    "        \"samples\": {\n",
    "            \"struct\": PointCloud(\n",
    "                positions[positions.sum(dim=-1) > 0].cpu().numpy()\n",
    "            )\n",
    "        }\n",
    "    }\n",
    ")"
   ]
  },
  {
   "cell_type": "code",
   "execution_count": null,
   "metadata": {},
   "outputs": [],
   "source": [
    "(positions.sum(dim=-1) > 0).sum()"
   ]
  },
  {
   "cell_type": "code",
   "execution_count": null,
   "metadata": {},
   "outputs": [],
   "source": []
  }
 ],
 "metadata": {
  "interpreter": {
   "hash": "6184d9b99cb74e2209cd7e160e4da5ae7659535ee54e7ae300c9d3f329090ca1"
  },
  "kernelspec": {
   "display_name": "Python 3.9.12 ('tava2')",
   "language": "python",
   "name": "python3"
  },
  "language_info": {
   "codemirror_mode": {
    "name": "ipython",
    "version": 3
   },
   "file_extension": ".py",
   "mimetype": "text/x-python",
   "name": "python",
   "nbconvert_exporter": "python",
   "pygments_lexer": "ipython3",
   "version": "3.9.12"
  },
  "orig_nbformat": 4
 },
 "nbformat": 4,
 "nbformat_minor": 2
}
